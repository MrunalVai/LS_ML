{
  "nbformat": 4,
  "nbformat_minor": 0,
  "metadata": {
    "colab": {
      "provenance": [],
      "gpuType": "T4"
    },
    "kernelspec": {
      "name": "python3",
      "display_name": "Python 3"
    },
    "language_info": {
      "name": "python"
    },
    "accelerator": "GPU"
  },
  "cells": [
    {
      "cell_type": "code",
      "execution_count": 179,
      "metadata": {
        "id": "xuY7O8JI68Y_"
      },
      "outputs": [],
      "source": [
        "import tensorflow as tf\n",
        "from tensorflow import keras\n",
        "from tensorflow.keras import layers, regularizers"
      ]
    },
    {
      "cell_type": "code",
      "source": [
        "batch_size = 64\n",
        "img_height = 64\n",
        "img_width = 64"
      ],
      "metadata": {
        "id": "FbNOzV0r7OgL"
      },
      "execution_count": 180,
      "outputs": []
    },
    {
      "cell_type": "code",
      "source": [
        "from google.colab import drive\n",
        "drive.mount('/content/drive')"
      ],
      "metadata": {
        "colab": {
          "base_uri": "https://localhost:8080/"
        },
        "id": "sRJUhMB1NpQ4",
        "outputId": "0a847d47-3049-4170-cf74-daeb141dced6"
      },
      "execution_count": 181,
      "outputs": [
        {
          "output_type": "stream",
          "name": "stdout",
          "text": [
            "Drive already mounted at /content/drive; to attempt to forcibly remount, call drive.mount(\"/content/drive\", force_remount=True).\n"
          ]
        }
      ]
    },
    {
      "cell_type": "code",
      "source": [
        "dataset = tf.keras.preprocessing.image_dataset_from_directory(\"/content/drive/MyDrive/homer_bart\",\n",
        "                                       image_size=(64, 64),\n",
        "                                       label_mode=\"binary\",\n",
        "                                       )\n",
        "\n",
        "# Split the dataset into training and testing\n",
        "ds_train = dataset.take(18)\n",
        "ds_test = dataset.skip(2)\n",
        "\n",
        "# Cache, shuffle, and prefetch the data\n",
        "ds_train = ds_train.cache().shuffle(1000).prefetch(buffer_size=tf.data.AUTOTUNE)\n",
        "ds_test = ds_test.cache().shuffle(1000).prefetch(buffer_size=tf.data.AUTOTUNE)"
      ],
      "metadata": {
        "colab": {
          "base_uri": "https://localhost:8080/"
        },
        "id": "zBmjXpHcTXA1",
        "outputId": "72f60200-2534-4a8a-804f-dcc3df260ea3"
      },
      "execution_count": 182,
      "outputs": [
        {
          "output_type": "stream",
          "name": "stdout",
          "text": [
            "Found 269 files belonging to 2 classes.\n"
          ]
        }
      ]
    },
    {
      "cell_type": "code",
      "source": [
        "def augment(x,y):\n",
        "    image = tf.image.random_brightness(x, max_delta=0.01)\n",
        "    return image,y\n",
        "\n",
        "ds_train = ds_train.map(augment)"
      ],
      "metadata": {
        "id": "JHszRwdNOH7V"
      },
      "execution_count": 183,
      "outputs": []
    },
    {
      "cell_type": "code",
      "source": [
        "preprocess = tf.keras.Sequential(\n",
        "    [tf.keras.layers.Rescaling(1./255)] # rescaling factor\n",
        ")"
      ],
      "metadata": {
        "id": "d71fCO2TO9zH"
      },
      "execution_count": 184,
      "outputs": []
    },
    {
      "cell_type": "code",
      "source": [
        "model = keras.Sequential(\n",
        "    [\n",
        "        keras.Input(shape=(64,64,3)),\n",
        "        preprocess,\n",
        "        layers.Flatten(),\n",
        "        layers.Dense(64,activation='relu'),\n",
        "        layers.Dense(32,activation='relu'),\n",
        "        layers.Dense(16,activation='relu'),\n",
        "        layers.Dense(1,activation='sigmoid')\n",
        "    ]\n",
        ")"
      ],
      "metadata": {
        "id": "fl3IOet6OK1q"
      },
      "execution_count": 185,
      "outputs": []
    },
    {
      "cell_type": "code",
      "source": [
        "model.compile(\n",
        "    loss = tf.keras.losses.BinaryCrossentropy(from_logits=False),\n",
        "    optimizer = keras.optimizers.Adam(learning_rate=0.001),\n",
        "    metrics = ['accuracy']\n",
        ")"
      ],
      "metadata": {
        "id": "HYNIkxmZOM7h"
      },
      "execution_count": 186,
      "outputs": []
    },
    {
      "cell_type": "code",
      "source": [
        "# model.fit(ds_train,batch_size=batch_size,epochs=20,verbose=2)\n",
        "model.fit(ds_train,\n",
        "          epochs = 20,\n",
        "          batch_size = batch_size,\n",
        "          verbose=1,\n",
        "          validation_data = ds_test)\n",
        "model.evaluate(ds_test,verbose=1)"
      ],
      "metadata": {
        "colab": {
          "base_uri": "https://localhost:8080/"
        },
        "id": "U4Z9BwzPOO1g",
        "outputId": "60193364-e1c3-4399-caf8-fb46bf736eaf"
      },
      "execution_count": 187,
      "outputs": [
        {
          "output_type": "stream",
          "name": "stdout",
          "text": [
            "Epoch 1/20\n",
            "9/9 [==============================] - 4s 177ms/step - loss: 1.1314 - accuracy: 0.4944 - val_loss: 0.6983 - val_accuracy: 0.6195\n",
            "Epoch 2/20\n",
            "9/9 [==============================] - 0s 8ms/step - loss: 0.6677 - accuracy: 0.5688 - val_loss: 0.5442 - val_accuracy: 0.7171\n",
            "Epoch 3/20\n",
            "9/9 [==============================] - 0s 6ms/step - loss: 0.6222 - accuracy: 0.6654 - val_loss: 0.4820 - val_accuracy: 0.7951\n",
            "Epoch 4/20\n",
            "9/9 [==============================] - 0s 7ms/step - loss: 0.5557 - accuracy: 0.7212 - val_loss: 0.4986 - val_accuracy: 0.7512\n",
            "Epoch 5/20\n",
            "9/9 [==============================] - 0s 6ms/step - loss: 0.5329 - accuracy: 0.7398 - val_loss: 0.8176 - val_accuracy: 0.5268\n",
            "Epoch 6/20\n",
            "9/9 [==============================] - 0s 7ms/step - loss: 0.7389 - accuracy: 0.6171 - val_loss: 0.6031 - val_accuracy: 0.6537\n",
            "Epoch 7/20\n",
            "9/9 [==============================] - 0s 7ms/step - loss: 0.5644 - accuracy: 0.7249 - val_loss: 0.3930 - val_accuracy: 0.8293\n",
            "Epoch 8/20\n",
            "9/9 [==============================] - 0s 7ms/step - loss: 0.5231 - accuracy: 0.7286 - val_loss: 0.5163 - val_accuracy: 0.7561\n",
            "Epoch 9/20\n",
            "9/9 [==============================] - 0s 7ms/step - loss: 0.5281 - accuracy: 0.7695 - val_loss: 0.4513 - val_accuracy: 0.8049\n",
            "Epoch 10/20\n",
            "9/9 [==============================] - 0s 7ms/step - loss: 0.4285 - accuracy: 0.7881 - val_loss: 0.3641 - val_accuracy: 0.8585\n",
            "Epoch 11/20\n",
            "9/9 [==============================] - 0s 6ms/step - loss: 0.3879 - accuracy: 0.8104 - val_loss: 0.3891 - val_accuracy: 0.8293\n",
            "Epoch 12/20\n",
            "9/9 [==============================] - 0s 8ms/step - loss: 0.3531 - accuracy: 0.8290 - val_loss: 0.3254 - val_accuracy: 0.8829\n",
            "Epoch 13/20\n",
            "9/9 [==============================] - 0s 7ms/step - loss: 0.3377 - accuracy: 0.8550 - val_loss: 0.3184 - val_accuracy: 0.8439\n",
            "Epoch 14/20\n",
            "9/9 [==============================] - 0s 7ms/step - loss: 0.3384 - accuracy: 0.8401 - val_loss: 0.3062 - val_accuracy: 0.8927\n",
            "Epoch 15/20\n",
            "9/9 [==============================] - 0s 7ms/step - loss: 0.3410 - accuracy: 0.8476 - val_loss: 0.2891 - val_accuracy: 0.9073\n",
            "Epoch 16/20\n",
            "9/9 [==============================] - 0s 7ms/step - loss: 0.3101 - accuracy: 0.8550 - val_loss: 0.2790 - val_accuracy: 0.9122\n",
            "Epoch 17/20\n",
            "9/9 [==============================] - 0s 7ms/step - loss: 0.3263 - accuracy: 0.8662 - val_loss: 0.3030 - val_accuracy: 0.9220\n",
            "Epoch 18/20\n",
            "9/9 [==============================] - 0s 7ms/step - loss: 0.2846 - accuracy: 0.8996 - val_loss: 0.2554 - val_accuracy: 0.9171\n",
            "Epoch 19/20\n",
            "9/9 [==============================] - 0s 7ms/step - loss: 0.2654 - accuracy: 0.9033 - val_loss: 0.2390 - val_accuracy: 0.9220\n",
            "Epoch 20/20\n",
            "9/9 [==============================] - 0s 7ms/step - loss: 0.2363 - accuracy: 0.9257 - val_loss: 0.2394 - val_accuracy: 0.9268\n",
            "7/7 [==============================] - 0s 4ms/step - loss: 0.2394 - accuracy: 0.9268\n"
          ]
        },
        {
          "output_type": "execute_result",
          "data": {
            "text/plain": [
              "[0.23941083252429962, 0.9268292784690857]"
            ]
          },
          "metadata": {},
          "execution_count": 187
        }
      ]
    },
    {
      "cell_type": "code",
      "source": [],
      "metadata": {
        "id": "RKODBaOlOQQV"
      },
      "execution_count": 187,
      "outputs": []
    }
  ]
}